{
  "nbformat": 4,
  "nbformat_minor": 0,
  "metadata": {
    "colab": {
      "provenance": []
    },
    "kernelspec": {
      "name": "python3",
      "display_name": "Python 3"
    },
    "language_info": {
      "name": "python"
    }
  },
  "cells": [
    {
      "cell_type": "markdown",
      "source": [
        "#รหัสนักศึกษา = 6304101378\n",
        "#ชื่อ = นางสาวอรรษิกมล ศรีสุพรรณ\n",
        "#SEC = 1"
      ],
      "metadata": {
        "id": "PdFI8lEiM22E"
      }
    }
  ]
}